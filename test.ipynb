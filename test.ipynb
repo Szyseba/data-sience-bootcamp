{
  "nbformat": 4,
  "nbformat_minor": 0,
  "metadata": {
    "colab": {
      "provenance": [],
      "authorship_tag": "ABX9TyPXdYrJEXU5Rm6txEMtBZBz",
      "include_colab_link": true
    },
    "kernelspec": {
      "name": "python3",
      "display_name": "Python 3"
    },
    "language_info": {
      "name": "python"
    }
  },
  "cells": [
    {
      "cell_type": "markdown",
      "metadata": {
        "id": "view-in-github",
        "colab_type": "text"
      },
      "source": [
        "<a href=\"https://colab.research.google.com/github/Szyseba/data-sience-bootcamp/blob/main/test.ipynb\" target=\"_parent\"><img src=\"https://colab.research.google.com/assets/colab-badge.svg\" alt=\"Open In Colab\"/></a>"
      ]
    },
    {
      "cell_type": "markdown",
      "source": [
        "Importy"
      ],
      "metadata": {
        "id": "2PIWs58QoFto"
      }
    },
    {
      "cell_type": "code",
      "source": [
        "import numpy as np"
      ],
      "metadata": {
        "id": "H_bBE2zIoI1t"
      },
      "execution_count": 2,
      "outputs": []
    },
    {
      "cell_type": "markdown",
      "source": [
        "Tablica zer"
      ],
      "metadata": {
        "id": "n0ei9MolnuWF"
      }
    },
    {
      "cell_type": "code",
      "source": [
        "np.zeros(shape=(4,4), dtype=int)"
      ],
      "metadata": {
        "id": "lDmrC54inzhD",
        "outputId": "f6831cf0-5f69-424c-984c-0130a8768591",
        "colab": {
          "base_uri": "https://localhost:8080/"
        }
      },
      "execution_count": 4,
      "outputs": [
        {
          "output_type": "execute_result",
          "data": {
            "text/plain": [
              "array([[0, 0, 0, 0],\n",
              "       [0, 0, 0, 0],\n",
              "       [0, 0, 0, 0],\n",
              "       [0, 0, 0, 0]])"
            ]
          },
          "metadata": {},
          "execution_count": 4
        }
      ]
    },
    {
      "cell_type": "markdown",
      "source": [
        "Tablica 4X4 wypłniona liczbą 5"
      ],
      "metadata": {
        "id": "d-x1i1aQoeAc"
      }
    },
    {
      "cell_type": "code",
      "source": [
        "np.full(shape=(4,4), fill_value=5,dtype=int)"
      ],
      "metadata": {
        "id": "Wp50YPH3oViX",
        "outputId": "05c51588-bba2-4473-de98-9ed5b2fbc356",
        "colab": {
          "base_uri": "https://localhost:8080/"
        }
      },
      "execution_count": 5,
      "outputs": [
        {
          "output_type": "execute_result",
          "data": {
            "text/plain": [
              "array([[5, 5, 5, 5],\n",
              "       [5, 5, 5, 5],\n",
              "       [5, 5, 5, 5],\n",
              "       [5, 5, 5, 5]])"
            ]
          },
          "metadata": {},
          "execution_count": 5
        }
      ]
    },
    {
      "cell_type": "markdown",
      "source": [
        "Tablica (lista) od do z ustalonym skokiem"
      ],
      "metadata": {
        "id": "CJ5ph0eLpL7e"
      }
    },
    {
      "cell_type": "code",
      "source": [
        "np.arange(start=0, stop=100, step=11, dtype=int)\n",
        "\n"
      ],
      "metadata": {
        "id": "pV1i7aJipU9k",
        "outputId": "330693a5-8bf4-4ff7-b2a7-81000481581f",
        "colab": {
          "base_uri": "https://localhost:8080/"
        }
      },
      "execution_count": 8,
      "outputs": [
        {
          "output_type": "execute_result",
          "data": {
            "text/plain": [
              "array([ 0, 11, 22, 33, 44, 55, 66, 77, 88, 99])"
            ]
          },
          "metadata": {},
          "execution_count": 8
        }
      ]
    },
    {
      "cell_type": "code",
      "source": [
        "np.arange(start=0.9, stop=1, step=0.01)\n"
      ],
      "metadata": {
        "id": "2PV0rEh5p8ln",
        "outputId": "8e187ee7-c59a-4879-dec5-c8a5b98ba7c6",
        "colab": {
          "base_uri": "https://localhost:8080/"
        }
      },
      "execution_count": 10,
      "outputs": [
        {
          "output_type": "execute_result",
          "data": {
            "text/plain": [
              "array([0.9 , 0.91, 0.92, 0.93, 0.94, 0.95, 0.96, 0.97, 0.98, 0.99])"
            ]
          },
          "metadata": {},
          "execution_count": 10
        }
      ]
    }
  ]
}